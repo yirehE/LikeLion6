{
 "cells": [
  {
   "cell_type": "markdown",
   "id": "888d2e30",
   "metadata": {},
   "source": [
    "# 라이브러리 불러오기"
   ]
  },
  {
   "cell_type": "code",
   "execution_count": 1,
   "id": "9b70e80f",
   "metadata": {},
   "outputs": [],
   "source": [
    "import pandas as pd\n",
    "import seaborn as sns\n",
    "import numpy as np\n",
    "import matplotlib.pyplot as plt\n",
    "from surprise import Reader, Dataset, SVD\n",
    "from surprise.model_selection import cross_validate"
   ]
  },
  {
   "cell_type": "markdown",
   "id": "5bf8d96a",
   "metadata": {},
   "source": [
    "# 한글 폰트 활성화"
   ]
  },
  {
   "cell_type": "code",
   "execution_count": 2,
   "id": "3f1fc2b8",
   "metadata": {},
   "outputs": [],
   "source": [
    "def get_font_family():\n",
    "    \"\"\"\n",
    "    시스템 환경에 따른 기본 폰트명을 반환하는 함수\n",
    "    \"\"\"\n",
    "    import platform\n",
    "    system_name = platform.system()\n",
    "\n",
    "    if system_name == \"Darwin\" :\n",
    "        font_family = \"AppleGothic\"\n",
    "    elif system_name == \"Windows\":\n",
    "        font_family = \"Malgun Gothic\"\n",
    "    else:\n",
    "        # Linux(colab)\n",
    "        !apt-get install fonts-nanum -qq  > /dev/null\n",
    "        !fc-cache -fv\n",
    "\n",
    "        import matplotlib as mpl\n",
    "        mpl.font_manager._rebuild()\n",
    "        findfont = mpl.font_manager.fontManager.findfont\n",
    "        mpl.font_manager.findfont = findfont\n",
    "        mpl.backends.backend_agg.findfont = findfont\n",
    "        \n",
    "        font_family = \"NanumBarunGothic\"\n",
    "    return font_family\n",
    "\n",
    "\n",
    "# style 설정은 꼭 폰트설정 위에서 합니다.\n",
    "# style 에 폰트 설정이 들어있으면 한글폰트가 초기화 되어 한글이 깨집니다.\n",
    "plt.style.use(\"seaborn\")\n",
    "# 폰트설정\n",
    "plt.rc(\"font\", family=get_font_family())\n",
    "\n",
    "# 마이너스폰트 설정\n",
    "plt.rc(\"axes\", unicode_minus=False)\n",
    "\n",
    "# 그래프에 retina display 적용\n",
    "%config InlineBackend.figure_format = 'retina'"
   ]
  },
  {
   "cell_type": "markdown",
   "id": "4f6e3a75",
   "metadata": {},
   "source": [
    "# 데이터 로드"
   ]
  },
  {
   "cell_type": "code",
   "execution_count": 104,
   "id": "cbad48e6",
   "metadata": {},
   "outputs": [
    {
     "name": "stdout",
     "output_type": "stream",
     "text": [
      "skip 87439 lines which are duplicated (user, item), #uniques=4943613\n"
     ]
    }
   ],
   "source": [
    "from kmr_dataset import load_rates\n",
    "from kmr_dataset import get_paths\n",
    "\n",
    "paths = get_paths(size='5m')\n",
    "# paths = get_paths(size='2m')\n",
    "# rates, timestamps = load_rates(size='small')\n",
    "rates, timestamps = load_rates(size='5m')\n",
    "import pandas as pd\n",
    "castings, countries, genres, movies, peoples, rates = [pd.read_csv(path, delimiter = delim) for path, delim in zip(paths, [None] * 3 +['\\t'] * 2 + [None])]"
   ]
  },
  {
   "cell_type": "code",
   "execution_count": 392,
   "id": "aa9ecec4",
   "metadata": {},
   "outputs": [
    {
     "name": "stdout",
     "output_type": "stream",
     "text": [
      "(819743, 4) (193783, 2) (197624, 1) (180982, 4) (263438, 3) (5031052, 4)\n"
     ]
    }
   ],
   "source": [
    "print(castings.shape, countries.shape, genres.shape, movies.shape, peoples.shape, rates.shape)"
   ]
  },
  {
   "cell_type": "code",
   "execution_count": 4,
   "id": "039d75d7",
   "metadata": {},
   "outputs": [
    {
     "name": "stdout",
     "output_type": "stream",
     "text": [
      "Unzipped rates-5m.zip\n"
     ]
    }
   ],
   "source": [
    "from kmr_dataset import load_histories\n",
    "\n",
    "histories = load_histories(size='5m')"
   ]
  },
  {
   "cell_type": "markdown",
   "id": "515c61da",
   "metadata": {},
   "source": [
    "# EDA 및 concat"
   ]
  },
  {
   "cell_type": "code",
   "execution_count": 9,
   "id": "4a4f41a6",
   "metadata": {},
   "outputs": [
    {
     "data": {
      "text/html": [
       "<style type=\"text/css\">\n",
       "#T_df3bb_row0_col0, #T_df3bb_row0_col1, #T_df3bb_row0_col2, #T_df3bb_row0_col3, #T_df3bb_row0_col4, #T_df3bb_row1_col0, #T_df3bb_row1_col1, #T_df3bb_row1_col2, #T_df3bb_row1_col3, #T_df3bb_row1_col4, #T_df3bb_row2_col0, #T_df3bb_row2_col1, #T_df3bb_row2_col2, #T_df3bb_row2_col3, #T_df3bb_row2_col4, #T_df3bb_row3_col1, #T_df3bb_row3_col2, #T_df3bb_row3_col3, #T_df3bb_row3_col5, #T_df3bb_row4_col0, #T_df3bb_row4_col1, #T_df3bb_row4_col2, #T_df3bb_row4_col4, #T_df3bb_row4_col5, #T_df3bb_row5_col0, #T_df3bb_row5_col2, #T_df3bb_row5_col3, #T_df3bb_row5_col4, #T_df3bb_row5_col5, #T_df3bb_row6_col1, #T_df3bb_row6_col2, #T_df3bb_row6_col3, #T_df3bb_row6_col4, #T_df3bb_row6_col5, #T_df3bb_row7_col0, #T_df3bb_row7_col1, #T_df3bb_row7_col2, #T_df3bb_row7_col4, #T_df3bb_row7_col5, #T_df3bb_row8_col1, #T_df3bb_row8_col2, #T_df3bb_row8_col3, #T_df3bb_row8_col4, #T_df3bb_row8_col5, #T_df3bb_row9_col0, #T_df3bb_row9_col1, #T_df3bb_row9_col2, #T_df3bb_row9_col4, #T_df3bb_row9_col5, #T_df3bb_row10_col0, #T_df3bb_row10_col1, #T_df3bb_row10_col2, #T_df3bb_row10_col3, #T_df3bb_row10_col5, #T_df3bb_row11_col0, #T_df3bb_row11_col1, #T_df3bb_row11_col3, #T_df3bb_row11_col4, #T_df3bb_row11_col5, #T_df3bb_row12_col4, #T_df3bb_row13_col0, #T_df3bb_row13_col1, #T_df3bb_row13_col2, #T_df3bb_row13_col4, #T_df3bb_row13_col5, #T_df3bb_row14_col0, #T_df3bb_row14_col1, #T_df3bb_row14_col2, #T_df3bb_row14_col3, #T_df3bb_row14_col5 {\n",
       "  background-color: #f7fbff;\n",
       "  color: #000000;\n",
       "}\n",
       "#T_df3bb_row0_col5, #T_df3bb_row1_col5, #T_df3bb_row2_col5, #T_df3bb_row3_col0, #T_df3bb_row3_col4, #T_df3bb_row4_col3, #T_df3bb_row5_col1, #T_df3bb_row6_col0, #T_df3bb_row7_col3, #T_df3bb_row8_col0, #T_df3bb_row9_col3, #T_df3bb_row10_col4, #T_df3bb_row11_col2, #T_df3bb_row12_col0, #T_df3bb_row12_col1, #T_df3bb_row12_col2, #T_df3bb_row12_col3, #T_df3bb_row12_col5, #T_df3bb_row13_col3, #T_df3bb_row14_col4 {\n",
       "  background-color: #08306b;\n",
       "  color: #f1f1f1;\n",
       "}\n",
       "</style>\n",
       "<table id=\"T_df3bb_\">\n",
       "  <thead>\n",
       "    <tr>\n",
       "      <th class=\"blank level0\" >&nbsp;</th>\n",
       "      <th class=\"col_heading level0 col0\" >castings</th>\n",
       "      <th class=\"col_heading level0 col1\" >countries</th>\n",
       "      <th class=\"col_heading level0 col2\" >genres</th>\n",
       "      <th class=\"col_heading level0 col3\" >movies</th>\n",
       "      <th class=\"col_heading level0 col4\" >peoples</th>\n",
       "      <th class=\"col_heading level0 col5\" >rates</th>\n",
       "    </tr>\n",
       "  </thead>\n",
       "  <tbody>\n",
       "    <tr>\n",
       "      <th id=\"T_df3bb_level0_row0\" class=\"row_heading level0 row0\" >time</th>\n",
       "      <td id=\"T_df3bb_row0_col0\" class=\"data row0 col0\" >0</td>\n",
       "      <td id=\"T_df3bb_row0_col1\" class=\"data row0 col1\" >0</td>\n",
       "      <td id=\"T_df3bb_row0_col2\" class=\"data row0 col2\" >0</td>\n",
       "      <td id=\"T_df3bb_row0_col3\" class=\"data row0 col3\" >0</td>\n",
       "      <td id=\"T_df3bb_row0_col4\" class=\"data row0 col4\" >0</td>\n",
       "      <td id=\"T_df3bb_row0_col5\" class=\"data row0 col5\" >1</td>\n",
       "    </tr>\n",
       "    <tr>\n",
       "      <th id=\"T_df3bb_level0_row1\" class=\"row_heading level0 row1\" >user</th>\n",
       "      <td id=\"T_df3bb_row1_col0\" class=\"data row1 col0\" >0</td>\n",
       "      <td id=\"T_df3bb_row1_col1\" class=\"data row1 col1\" >0</td>\n",
       "      <td id=\"T_df3bb_row1_col2\" class=\"data row1 col2\" >0</td>\n",
       "      <td id=\"T_df3bb_row1_col3\" class=\"data row1 col3\" >0</td>\n",
       "      <td id=\"T_df3bb_row1_col4\" class=\"data row1 col4\" >0</td>\n",
       "      <td id=\"T_df3bb_row1_col5\" class=\"data row1 col5\" >1</td>\n",
       "    </tr>\n",
       "    <tr>\n",
       "      <th id=\"T_df3bb_level0_row2\" class=\"row_heading level0 row2\" >rate</th>\n",
       "      <td id=\"T_df3bb_row2_col0\" class=\"data row2 col0\" >0</td>\n",
       "      <td id=\"T_df3bb_row2_col1\" class=\"data row2 col1\" >0</td>\n",
       "      <td id=\"T_df3bb_row2_col2\" class=\"data row2 col2\" >0</td>\n",
       "      <td id=\"T_df3bb_row2_col3\" class=\"data row2 col3\" >0</td>\n",
       "      <td id=\"T_df3bb_row2_col4\" class=\"data row2 col4\" >0</td>\n",
       "      <td id=\"T_df3bb_row2_col5\" class=\"data row2 col5\" >1</td>\n",
       "    </tr>\n",
       "    <tr>\n",
       "      <th id=\"T_df3bb_level0_row3\" class=\"row_heading level0 row3\" >people</th>\n",
       "      <td id=\"T_df3bb_row3_col0\" class=\"data row3 col0\" >1</td>\n",
       "      <td id=\"T_df3bb_row3_col1\" class=\"data row3 col1\" >0</td>\n",
       "      <td id=\"T_df3bb_row3_col2\" class=\"data row3 col2\" >0</td>\n",
       "      <td id=\"T_df3bb_row3_col3\" class=\"data row3 col3\" >0</td>\n",
       "      <td id=\"T_df3bb_row3_col4\" class=\"data row3 col4\" >1</td>\n",
       "      <td id=\"T_df3bb_row3_col5\" class=\"data row3 col5\" >0</td>\n",
       "    </tr>\n",
       "    <tr>\n",
       "      <th id=\"T_df3bb_level0_row4\" class=\"row_heading level0 row4\" >grade</th>\n",
       "      <td id=\"T_df3bb_row4_col0\" class=\"data row4 col0\" >0</td>\n",
       "      <td id=\"T_df3bb_row4_col1\" class=\"data row4 col1\" >0</td>\n",
       "      <td id=\"T_df3bb_row4_col2\" class=\"data row4 col2\" >0</td>\n",
       "      <td id=\"T_df3bb_row4_col3\" class=\"data row4 col3\" >1</td>\n",
       "      <td id=\"T_df3bb_row4_col4\" class=\"data row4 col4\" >0</td>\n",
       "      <td id=\"T_df3bb_row4_col5\" class=\"data row4 col5\" >0</td>\n",
       "    </tr>\n",
       "    <tr>\n",
       "      <th id=\"T_df3bb_level0_row5\" class=\"row_heading level0 row5\" >country</th>\n",
       "      <td id=\"T_df3bb_row5_col0\" class=\"data row5 col0\" >0</td>\n",
       "      <td id=\"T_df3bb_row5_col1\" class=\"data row5 col1\" >1</td>\n",
       "      <td id=\"T_df3bb_row5_col2\" class=\"data row5 col2\" >0</td>\n",
       "      <td id=\"T_df3bb_row5_col3\" class=\"data row5 col3\" >0</td>\n",
       "      <td id=\"T_df3bb_row5_col4\" class=\"data row5 col4\" >0</td>\n",
       "      <td id=\"T_df3bb_row5_col5\" class=\"data row5 col5\" >0</td>\n",
       "    </tr>\n",
       "    <tr>\n",
       "      <th id=\"T_df3bb_level0_row6\" class=\"row_heading level0 row6\" >order</th>\n",
       "      <td id=\"T_df3bb_row6_col0\" class=\"data row6 col0\" >1</td>\n",
       "      <td id=\"T_df3bb_row6_col1\" class=\"data row6 col1\" >0</td>\n",
       "      <td id=\"T_df3bb_row6_col2\" class=\"data row6 col2\" >0</td>\n",
       "      <td id=\"T_df3bb_row6_col3\" class=\"data row6 col3\" >0</td>\n",
       "      <td id=\"T_df3bb_row6_col4\" class=\"data row6 col4\" >0</td>\n",
       "      <td id=\"T_df3bb_row6_col5\" class=\"data row6 col5\" >0</td>\n",
       "    </tr>\n",
       "    <tr>\n",
       "      <th id=\"T_df3bb_level0_row7\" class=\"row_heading level0 row7\" >title</th>\n",
       "      <td id=\"T_df3bb_row7_col0\" class=\"data row7 col0\" >0</td>\n",
       "      <td id=\"T_df3bb_row7_col1\" class=\"data row7 col1\" >0</td>\n",
       "      <td id=\"T_df3bb_row7_col2\" class=\"data row7 col2\" >0</td>\n",
       "      <td id=\"T_df3bb_row7_col3\" class=\"data row7 col3\" >1</td>\n",
       "      <td id=\"T_df3bb_row7_col4\" class=\"data row7 col4\" >0</td>\n",
       "      <td id=\"T_df3bb_row7_col5\" class=\"data row7 col5\" >0</td>\n",
       "    </tr>\n",
       "    <tr>\n",
       "      <th id=\"T_df3bb_level0_row8\" class=\"row_heading level0 row8\" >leading</th>\n",
       "      <td id=\"T_df3bb_row8_col0\" class=\"data row8 col0\" >1</td>\n",
       "      <td id=\"T_df3bb_row8_col1\" class=\"data row8 col1\" >0</td>\n",
       "      <td id=\"T_df3bb_row8_col2\" class=\"data row8 col2\" >0</td>\n",
       "      <td id=\"T_df3bb_row8_col3\" class=\"data row8 col3\" >0</td>\n",
       "      <td id=\"T_df3bb_row8_col4\" class=\"data row8 col4\" >0</td>\n",
       "      <td id=\"T_df3bb_row8_col5\" class=\"data row8 col5\" >0</td>\n",
       "    </tr>\n",
       "    <tr>\n",
       "      <th id=\"T_df3bb_level0_row9\" class=\"row_heading level0 row9\" >year</th>\n",
       "      <td id=\"T_df3bb_row9_col0\" class=\"data row9 col0\" >0</td>\n",
       "      <td id=\"T_df3bb_row9_col1\" class=\"data row9 col1\" >0</td>\n",
       "      <td id=\"T_df3bb_row9_col2\" class=\"data row9 col2\" >0</td>\n",
       "      <td id=\"T_df3bb_row9_col3\" class=\"data row9 col3\" >1</td>\n",
       "      <td id=\"T_df3bb_row9_col4\" class=\"data row9 col4\" >0</td>\n",
       "      <td id=\"T_df3bb_row9_col5\" class=\"data row9 col5\" >0</td>\n",
       "    </tr>\n",
       "    <tr>\n",
       "      <th id=\"T_df3bb_level0_row10\" class=\"row_heading level0 row10\" >korean</th>\n",
       "      <td id=\"T_df3bb_row10_col0\" class=\"data row10 col0\" >0</td>\n",
       "      <td id=\"T_df3bb_row10_col1\" class=\"data row10 col1\" >0</td>\n",
       "      <td id=\"T_df3bb_row10_col2\" class=\"data row10 col2\" >0</td>\n",
       "      <td id=\"T_df3bb_row10_col3\" class=\"data row10 col3\" >0</td>\n",
       "      <td id=\"T_df3bb_row10_col4\" class=\"data row10 col4\" >1</td>\n",
       "      <td id=\"T_df3bb_row10_col5\" class=\"data row10 col5\" >0</td>\n",
       "    </tr>\n",
       "    <tr>\n",
       "      <th id=\"T_df3bb_level0_row11\" class=\"row_heading level0 row11\" >genre</th>\n",
       "      <td id=\"T_df3bb_row11_col0\" class=\"data row11 col0\" >0</td>\n",
       "      <td id=\"T_df3bb_row11_col1\" class=\"data row11 col1\" >0</td>\n",
       "      <td id=\"T_df3bb_row11_col2\" class=\"data row11 col2\" >1</td>\n",
       "      <td id=\"T_df3bb_row11_col3\" class=\"data row11 col3\" >0</td>\n",
       "      <td id=\"T_df3bb_row11_col4\" class=\"data row11 col4\" >0</td>\n",
       "      <td id=\"T_df3bb_row11_col5\" class=\"data row11 col5\" >0</td>\n",
       "    </tr>\n",
       "    <tr>\n",
       "      <th id=\"T_df3bb_level0_row12\" class=\"row_heading level0 row12\" >movie</th>\n",
       "      <td id=\"T_df3bb_row12_col0\" class=\"data row12 col0\" >1</td>\n",
       "      <td id=\"T_df3bb_row12_col1\" class=\"data row12 col1\" >1</td>\n",
       "      <td id=\"T_df3bb_row12_col2\" class=\"data row12 col2\" >1</td>\n",
       "      <td id=\"T_df3bb_row12_col3\" class=\"data row12 col3\" >1</td>\n",
       "      <td id=\"T_df3bb_row12_col4\" class=\"data row12 col4\" >0</td>\n",
       "      <td id=\"T_df3bb_row12_col5\" class=\"data row12 col5\" >1</td>\n",
       "    </tr>\n",
       "    <tr>\n",
       "      <th id=\"T_df3bb_level0_row13\" class=\"row_heading level0 row13\" >title_eng</th>\n",
       "      <td id=\"T_df3bb_row13_col0\" class=\"data row13 col0\" >0</td>\n",
       "      <td id=\"T_df3bb_row13_col1\" class=\"data row13 col1\" >0</td>\n",
       "      <td id=\"T_df3bb_row13_col2\" class=\"data row13 col2\" >0</td>\n",
       "      <td id=\"T_df3bb_row13_col3\" class=\"data row13 col3\" >1</td>\n",
       "      <td id=\"T_df3bb_row13_col4\" class=\"data row13 col4\" >0</td>\n",
       "      <td id=\"T_df3bb_row13_col5\" class=\"data row13 col5\" >0</td>\n",
       "    </tr>\n",
       "    <tr>\n",
       "      <th id=\"T_df3bb_level0_row14\" class=\"row_heading level0 row14\" >original</th>\n",
       "      <td id=\"T_df3bb_row14_col0\" class=\"data row14 col0\" >0</td>\n",
       "      <td id=\"T_df3bb_row14_col1\" class=\"data row14 col1\" >0</td>\n",
       "      <td id=\"T_df3bb_row14_col2\" class=\"data row14 col2\" >0</td>\n",
       "      <td id=\"T_df3bb_row14_col3\" class=\"data row14 col3\" >0</td>\n",
       "      <td id=\"T_df3bb_row14_col4\" class=\"data row14 col4\" >1</td>\n",
       "      <td id=\"T_df3bb_row14_col5\" class=\"data row14 col5\" >0</td>\n",
       "    </tr>\n",
       "  </tbody>\n",
       "</table>\n"
      ],
      "text/plain": [
       "<pandas.io.formats.style.Styler at 0x230a0e20820>"
      ]
     },
     "execution_count": 9,
     "metadata": {},
     "output_type": "execute_result"
    }
   ],
   "source": [
    "# 하나의 dataframe으로 합치기 위해 각 데이터에 어떤 column들이 있는지 확인한다\n",
    "def check_scheme(df_names):\n",
    "    df_list = [globals()[name] for name in df_names]\n",
    "    whole_columns = []\n",
    "    for df in df_list:\n",
    "        whole_columns.extend(df.columns.tolist())\n",
    "        whole_columns = list(set(whole_columns))\n",
    "        tbl_rel = pd.DataFrame(index = whole_columns, columns = df_names)\n",
    "        for idx, col in enumerate(tbl_rel.columns):\n",
    "            for row in tbl_rel.index:\n",
    "                tbl_rel.loc[row, col] = row in df_list[idx]\n",
    "    return tbl_rel.astype(int).style.background_gradient(cmap = \"Blues\")\n",
    "\n",
    "check_scheme([\"castings\", \"countries\", \"genres\", \"movies\", \"peoples\", \"rates\"])"
   ]
  },
  {
   "cell_type": "code",
   "execution_count": 388,
   "id": "a877c53c",
   "metadata": {},
   "outputs": [],
   "source": [
    "rates = pd.read_csv('./kmr_dataset/datafile/kmrd/rates-5m.csv')"
   ]
  },
  {
   "cell_type": "code",
   "execution_count": 389,
   "id": "0a62dded",
   "metadata": {},
   "outputs": [
    {
     "data": {
      "text/plain": [
       "count     988.000000\n",
       "mean       87.507085\n",
       "std       438.240984\n",
       "min         1.000000\n",
       "25%         1.000000\n",
       "50%         2.000000\n",
       "75%        11.000000\n",
       "max      5777.000000\n",
       "Name: rate, dtype: float64"
      ]
     },
     "execution_count": 389,
     "metadata": {},
     "output_type": "execute_result"
    }
   ],
   "source": [
    "cnt_user = rates.groupby(\"user\").count()\n",
    "cnt_user = cnt_user.groupby(\"movie\").rate.count()\n",
    "cnt_user.describe()"
   ]
  },
  {
   "cell_type": "code",
   "execution_count": 390,
   "id": "5b02bbd5",
   "metadata": {},
   "outputs": [
    {
     "data": {
      "text/plain": [
       "movie\n",
       "20      5777\n",
       "21      5144\n",
       "22      4551\n",
       "23      4132\n",
       "24      3796\n",
       "        ... \n",
       "96       138\n",
       "97       140\n",
       "98       116\n",
       "99       135\n",
       "100+    8374\n",
       "Name: rate, Length: 81, dtype: int64"
      ]
     },
     "execution_count": 390,
     "metadata": {},
     "output_type": "execute_result"
    }
   ],
   "source": [
    "tmp = cnt_user[cnt_user.index >= 100]\n",
    "cnt_user = cnt_user[cnt_user.index < 100]\n",
    "cnt_user[\"100+\"] = tmp.sum()\n",
    "cnt_user"
   ]
  },
  {
   "cell_type": "markdown",
   "id": "90eac79d",
   "metadata": {},
   "source": [
    "유저들이 후기를 얼만큼 작성했는지 시각화해보았다.<br>\n",
    "최소 후기 작성 횟수는 20회로 추천시스템에서 발생할 수 있는 cold start는 없을 것으로 보인다.<br>\n",
    "20회가 가장 많고 이후 점차 줄어듦에도 불구하고 100회 이상 작성한 유저가 상당히 많다는 것을 알 수 있다."
   ]
  },
  {
   "cell_type": "code",
   "execution_count": 391,
   "id": "bccd0e6b",
   "metadata": {},
   "outputs": [
    {
     "name": "stderr",
     "output_type": "stream",
     "text": [
      "C:\\Users\\yr\\anaconda3\\lib\\site-packages\\seaborn\\_decorators.py:36: FutureWarning: Pass the following variables as keyword args: x, y. From version 0.12, the only valid positional argument will be `data`, and passing other arguments without an explicit keyword will result in an error or misinterpretation.\n",
      "  warnings.warn(\n"
     ]
    },
    {
     "data": {
      "image/png": "[encoded data removed]",
      "text/plain": [
       "<Figure size 864x576 with 1 Axes>"
      ]
     },
     "metadata": {
      "image/png": {
       "height": 483,
       "width": 720
      }
     },
     "output_type": "display_data"
    }
   ],
   "source": [
    "plt.figure(figsize=(12,8))\n",
    "sns.barplot(cnt_user.index, cnt_user.values, alpha=0.8)\n",
    "plt.xlabel('후기 작성 횟수', fontsize=12)\n",
    "plt.xticks(np.arange(0,81,4))\n",
    "plt.show()"
   ]
  },
  {
   "cell_type": "code",
   "execution_count": 18,
   "id": "9d468b35",
   "metadata": {},
   "outputs": [
    {
     "data": {
      "text/plain": [
       "9990"
      ]
     },
     "execution_count": 18,
     "metadata": {},
     "output_type": "execute_result"
    }
   ],
   "source": [
    "# 최대 작성한 유저는 9990회 후기를 작성하였다. 개인이 아니라 단체가 아닐까싶다.\n",
    "tmp.index.max()"
   ]
  },
  {
   "cell_type": "code",
   "execution_count": 19,
   "id": "c029c3fb",
   "metadata": {},
   "outputs": [
    {
     "data": {
      "text/plain": [
       "((819743, 4), (193783, 2), (197624, 2), (180982, 5), (263438, 3), (5031052, 4))"
      ]
     },
     "execution_count": 19,
     "metadata": {},
     "output_type": "execute_result"
    }
   ],
   "source": [
    "castings.shape, countries.shape, genres.shape, movies.shape, peoples.shape, rates.shape"
   ]
  },
  {
   "cell_type": "markdown",
   "id": "dc9b5de5",
   "metadata": {},
   "source": [
    "## Model1\n",
    "### 장르 조합별로 분류"
   ]
  },
  {
   "cell_type": "markdown",
   "id": "af2936f1",
   "metadata": {},
   "source": [
    "장르 조합별로 분류를 하였더니 기존의 26개 분류에서 1636개로 분류가 늘어나 학습이 제대로 되지 않았다. 따라서 이 모델은 사용하지 않기로 했다."
   ]
  },
  {
   "cell_type": "code",
   "execution_count": 20,
   "id": "09596f8d",
   "metadata": {},
   "outputs": [
    {
     "name": "stdout",
     "output_type": "stream",
     "text": [
      "108816\n"
     ]
    },
    {
     "data": {
      "text/html": [
       "<div>\n",
       "<style scoped>\n",
       "    .dataframe tbody tr th:only-of-type {\n",
       "        vertical-align: middle;\n",
       "    }\n",
       "\n",
       "    .dataframe tbody tr th {\n",
       "        vertical-align: top;\n",
       "    }\n",
       "\n",
       "    .dataframe thead th {\n",
       "        text-align: right;\n",
       "    }\n",
       "</style>\n",
       "<table border=\"1\" class=\"dataframe\">\n",
       "  <thead>\n",
       "    <tr style=\"text-align: right;\">\n",
       "      <th></th>\n",
       "      <th>people</th>\n",
       "      <th>order</th>\n",
       "      <th>leading</th>\n",
       "    </tr>\n",
       "    <tr>\n",
       "      <th>movie</th>\n",
       "      <th></th>\n",
       "      <th></th>\n",
       "      <th></th>\n",
       "    </tr>\n",
       "  </thead>\n",
       "  <tbody>\n",
       "    <tr>\n",
       "      <th>10001</th>\n",
       "      <td>[4374, 178, 3241, 47952, 47953, 19538, 18991, ...</td>\n",
       "      <td>[1, 2, 3, 4, 5, 6, 7, 8, 9, 10, 11, 12, 13, 14...</td>\n",
       "      <td>[1, 1, 1, 1, 0, 0, 0, 0, 0, 0, 0, 0, 0, 0, 0, 0]</td>\n",
       "    </tr>\n",
       "    <tr>\n",
       "      <th>10002</th>\n",
       "      <td>[1076, 4603, 917, 8637, 5104, 9986, 7470, 9987]</td>\n",
       "      <td>[1, 2, 3, 4, 5, 6, 7, 8]</td>\n",
       "      <td>[1, 1, 1, 1, 1, 0, 0, 0]</td>\n",
       "    </tr>\n",
       "    <tr>\n",
       "      <th>10003</th>\n",
       "      <td>[1076, 4603, 917, 5104, 391, 5106, 5105, 5107,...</td>\n",
       "      <td>[1, 2, 3, 4, 5, 6, 7, 8, 9, 10]</td>\n",
       "      <td>[1, 1, 0, 0, 0, 0, 0, 0, 0, 0]</td>\n",
       "    </tr>\n",
       "    <tr>\n",
       "      <th>10004</th>\n",
       "      <td>[1076, 4603, 1031, 5104, 10001, 5984, 10002, 1...</td>\n",
       "      <td>[1, 2, 3, 4, 5, 6, 7, 8, 9, 10, 11, 12]</td>\n",
       "      <td>[1, 1, 1, 1, 0, 0, 0, 0, 0, 0, 0, 0]</td>\n",
       "    </tr>\n",
       "    <tr>\n",
       "      <th>10005</th>\n",
       "      <td>[1007, 535, 215, 1236, 35]</td>\n",
       "      <td>[1, 2, 3, 4, 5]</td>\n",
       "      <td>[1, 1, 1, 0, 0]</td>\n",
       "    </tr>\n",
       "  </tbody>\n",
       "</table>\n",
       "</div>"
      ],
      "text/plain": [
       "                                                  people  \\\n",
       "movie                                                      \n",
       "10001  [4374, 178, 3241, 47952, 47953, 19538, 18991, ...   \n",
       "10002    [1076, 4603, 917, 8637, 5104, 9986, 7470, 9987]   \n",
       "10003  [1076, 4603, 917, 5104, 391, 5106, 5105, 5107,...   \n",
       "10004  [1076, 4603, 1031, 5104, 10001, 5984, 10002, 1...   \n",
       "10005                         [1007, 535, 215, 1236, 35]   \n",
       "\n",
       "                                                   order  \\\n",
       "movie                                                      \n",
       "10001  [1, 2, 3, 4, 5, 6, 7, 8, 9, 10, 11, 12, 13, 14...   \n",
       "10002                           [1, 2, 3, 4, 5, 6, 7, 8]   \n",
       "10003                    [1, 2, 3, 4, 5, 6, 7, 8, 9, 10]   \n",
       "10004            [1, 2, 3, 4, 5, 6, 7, 8, 9, 10, 11, 12]   \n",
       "10005                                    [1, 2, 3, 4, 5]   \n",
       "\n",
       "                                                leading  \n",
       "movie                                                    \n",
       "10001  [1, 1, 1, 1, 0, 0, 0, 0, 0, 0, 0, 0, 0, 0, 0, 0]  \n",
       "10002                          [1, 1, 1, 1, 1, 0, 0, 0]  \n",
       "10003                    [1, 1, 0, 0, 0, 0, 0, 0, 0, 0]  \n",
       "10004              [1, 1, 1, 1, 0, 0, 0, 0, 0, 0, 0, 0]  \n",
       "10005                                   [1, 1, 1, 0, 0]  "
      ]
     },
     "execution_count": 20,
     "metadata": {},
     "output_type": "execute_result"
    }
   ],
   "source": [
    "castings = castings.groupby(\"movie\").agg({\"people\" : lambda x : list(x), \"order\" : lambda x : list(x), \"leading\" : lambda x : list(x)})\n",
    "print(castings.index.nunique())\n",
    "castings.head()"
   ]
  },
  {
   "cell_type": "code",
   "execution_count": 23,
   "id": "89122a58",
   "metadata": {},
   "outputs": [
    {
     "name": "stdout",
     "output_type": "stream",
     "text": [
      "171166\n"
     ]
    },
    {
     "data": {
      "text/html": [
       "<div>\n",
       "<style scoped>\n",
       "    .dataframe tbody tr th:only-of-type {\n",
       "        vertical-align: middle;\n",
       "    }\n",
       "\n",
       "    .dataframe tbody tr th {\n",
       "        vertical-align: top;\n",
       "    }\n",
       "\n",
       "    .dataframe thead th {\n",
       "        text-align: right;\n",
       "    }\n",
       "</style>\n",
       "<table border=\"1\" class=\"dataframe\">\n",
       "  <thead>\n",
       "    <tr style=\"text-align: right;\">\n",
       "      <th></th>\n",
       "      <th>country</th>\n",
       "    </tr>\n",
       "    <tr>\n",
       "      <th>movie</th>\n",
       "      <th></th>\n",
       "    </tr>\n",
       "  </thead>\n",
       "  <tbody>\n",
       "    <tr>\n",
       "      <th>10001</th>\n",
       "      <td>이탈리아/프랑스</td>\n",
       "    </tr>\n",
       "    <tr>\n",
       "      <th>10002</th>\n",
       "      <td>미국</td>\n",
       "    </tr>\n",
       "    <tr>\n",
       "      <th>10003</th>\n",
       "      <td>미국</td>\n",
       "    </tr>\n",
       "    <tr>\n",
       "      <th>10004</th>\n",
       "      <td>미국</td>\n",
       "    </tr>\n",
       "    <tr>\n",
       "      <th>10005</th>\n",
       "      <td>미국</td>\n",
       "    </tr>\n",
       "  </tbody>\n",
       "</table>\n",
       "</div>"
      ],
      "text/plain": [
       "        country\n",
       "movie          \n",
       "10001  이탈리아/프랑스\n",
       "10002        미국\n",
       "10003        미국\n",
       "10004        미국\n",
       "10005        미국"
      ]
     },
     "execution_count": 23,
     "metadata": {},
     "output_type": "execute_result"
    }
   ],
   "source": [
    "countries = countries.groupby(\"movie\").agg({\"country\" : lambda x : '/'.join(x)})\n",
    "print(countries.index.nunique())\n",
    "countries.head()"
   ]
  },
  {
   "cell_type": "code",
   "execution_count": 107,
   "id": "5454beb9",
   "metadata": {},
   "outputs": [
    {
     "data": {
      "text/plain": [
       "26"
      ]
     },
     "execution_count": 107,
     "metadata": {},
     "output_type": "execute_result"
    }
   ],
   "source": [
    "genre_index = genres.genre.unique()\n",
    "len(genre_index)"
   ]
  },
  {
   "cell_type": "code",
   "execution_count": 21,
   "id": "d97f7f2a",
   "metadata": {},
   "outputs": [
    {
     "name": "stdout",
     "output_type": "stream",
     "text": [
      "129090\n"
     ]
    },
    {
     "data": {
      "text/html": [
       "<div>\n",
       "<style scoped>\n",
       "    .dataframe tbody tr th:only-of-type {\n",
       "        vertical-align: middle;\n",
       "    }\n",
       "\n",
       "    .dataframe tbody tr th {\n",
       "        vertical-align: top;\n",
       "    }\n",
       "\n",
       "    .dataframe thead th {\n",
       "        text-align: right;\n",
       "    }\n",
       "</style>\n",
       "<table border=\"1\" class=\"dataframe\">\n",
       "  <thead>\n",
       "    <tr style=\"text-align: right;\">\n",
       "      <th></th>\n",
       "      <th>genre</th>\n",
       "    </tr>\n",
       "    <tr>\n",
       "      <th>movie</th>\n",
       "      <th></th>\n",
       "    </tr>\n",
       "  </thead>\n",
       "  <tbody>\n",
       "    <tr>\n",
       "      <th>10001</th>\n",
       "      <td>드라마/멜로/로맨스</td>\n",
       "    </tr>\n",
       "    <tr>\n",
       "      <th>10002</th>\n",
       "      <td>SF/코미디</td>\n",
       "    </tr>\n",
       "    <tr>\n",
       "      <th>10003</th>\n",
       "      <td>SF/코미디</td>\n",
       "    </tr>\n",
       "    <tr>\n",
       "      <th>10004</th>\n",
       "      <td>서부/SF/판타지/코미디</td>\n",
       "    </tr>\n",
       "    <tr>\n",
       "      <th>10005</th>\n",
       "      <td>판타지/모험/SF/액션</td>\n",
       "    </tr>\n",
       "  </tbody>\n",
       "</table>\n",
       "</div>"
      ],
      "text/plain": [
       "               genre\n",
       "movie               \n",
       "10001     드라마/멜로/로맨스\n",
       "10002         SF/코미디\n",
       "10003         SF/코미디\n",
       "10004  서부/SF/판타지/코미디\n",
       "10005   판타지/모험/SF/액션"
      ]
     },
     "execution_count": 21,
     "metadata": {},
     "output_type": "execute_result"
    }
   ],
   "source": [
    "# genres = genres.groupby(\"movie\").agg({\"genre\" : lambda x : '/'.join(x)})\n",
    "# print(genres.index.nunique())\n",
    "# genres.head()\n",
    "\n",
    "genres.set_index(\"movie\")"
   ]
  },
  {
   "cell_type": "code",
   "execution_count": 179,
   "id": "285a1bdb",
   "metadata": {},
   "outputs": [
    {
     "data": {
      "text/html": [
       "<div>\n",
       "<style scoped>\n",
       "    .dataframe tbody tr th:only-of-type {\n",
       "        vertical-align: middle;\n",
       "    }\n",
       "\n",
       "    .dataframe tbody tr th {\n",
       "        vertical-align: top;\n",
       "    }\n",
       "\n",
       "    .dataframe thead th {\n",
       "        text-align: right;\n",
       "    }\n",
       "</style>\n",
       "<table border=\"1\" class=\"dataframe\">\n",
       "  <thead>\n",
       "    <tr style=\"text-align: right;\">\n",
       "      <th></th>\n",
       "      <th>title</th>\n",
       "      <th>title_eng</th>\n",
       "      <th>year</th>\n",
       "      <th>grade</th>\n",
       "      <th>movie</th>\n",
       "      <th>genre</th>\n",
       "    </tr>\n",
       "    <tr>\n",
       "      <th>movie</th>\n",
       "      <th></th>\n",
       "      <th></th>\n",
       "      <th></th>\n",
       "      <th></th>\n",
       "      <th></th>\n",
       "      <th></th>\n",
       "    </tr>\n",
       "  </thead>\n",
       "  <tbody>\n",
       "    <tr>\n",
       "      <th>10001</th>\n",
       "      <td>시네마 천국</td>\n",
       "      <td>Cinema Paradiso , 1988</td>\n",
       "      <td>1990</td>\n",
       "      <td>전체 관람가</td>\n",
       "      <td>16884</td>\n",
       "      <td>드라마</td>\n",
       "    </tr>\n",
       "    <tr>\n",
       "      <th>10002</th>\n",
       "      <td>빽 투 더 퓨쳐</td>\n",
       "      <td>Back To The Future , 1985</td>\n",
       "      <td>1987</td>\n",
       "      <td>12세 관람가</td>\n",
       "      <td>16884</td>\n",
       "      <td>전쟁</td>\n",
       "    </tr>\n",
       "    <tr>\n",
       "      <th>10003</th>\n",
       "      <td>빽 투 더 퓨쳐 2</td>\n",
       "      <td>Back To The Future Part 2 , 1989</td>\n",
       "      <td>1990</td>\n",
       "      <td>12세 관람가</td>\n",
       "      <td>16885</td>\n",
       "      <td>드라마</td>\n",
       "    </tr>\n",
       "    <tr>\n",
       "      <th>10004</th>\n",
       "      <td>빽 투 더 퓨쳐 3</td>\n",
       "      <td>Back To The Future Part III , 1990</td>\n",
       "      <td>1990</td>\n",
       "      <td>전체 관람가</td>\n",
       "      <td>16885</td>\n",
       "      <td>코미디</td>\n",
       "    </tr>\n",
       "    <tr>\n",
       "      <th>10005</th>\n",
       "      <td>스타워즈 에피소드 4 - 새로운 희망</td>\n",
       "      <td>Star Wars , 1977</td>\n",
       "      <td>1978</td>\n",
       "      <td>PG</td>\n",
       "      <td>16886</td>\n",
       "      <td>멜로/로맨스</td>\n",
       "    </tr>\n",
       "  </tbody>\n",
       "</table>\n",
       "</div>"
      ],
      "text/plain": [
       "                      title                           title_eng  year  \\\n",
       "movie                                                                   \n",
       "10001                시네마 천국              Cinema Paradiso , 1988  1990   \n",
       "10002              빽 투 더 퓨쳐           Back To The Future , 1985  1987   \n",
       "10003            빽 투 더 퓨쳐 2    Back To The Future Part 2 , 1989  1990   \n",
       "10004            빽 투 더 퓨쳐 3  Back To The Future Part III , 1990  1990   \n",
       "10005  스타워즈 에피소드 4 - 새로운 희망                    Star Wars , 1977  1978   \n",
       "\n",
       "         grade  movie   genre  \n",
       "movie                          \n",
       "10001   전체 관람가  16884     드라마  \n",
       "10002  12세 관람가  16884      전쟁  \n",
       "10003  12세 관람가  16885     드라마  \n",
       "10004   전체 관람가  16885     코미디  \n",
       "10005       PG  16886  멜로/로맨스  "
      ]
     },
     "execution_count": 179,
     "metadata": {},
     "output_type": "execute_result"
    }
   ],
   "source": [
    "movies = movies.set_index(\"movie\")\n",
    "movie_infos = movies.join(genres).join(countries).join(castings)\n",
    "movie_infos.head()"
   ]
  },
  {
   "cell_type": "code",
   "execution_count": 122,
   "id": "c1e035eb",
   "metadata": {},
   "outputs": [],
   "source": [
    "rates = rates.drop_duplicates()\n",
    "rates = rates.groupby([\"user\", \"movie\"])[[\"rate\"]].mean().reset_index(\"user\")\n",
    "df = rates.join(movie_infos)"
   ]
  },
  {
   "cell_type": "code",
   "execution_count": 123,
   "id": "f41affea",
   "metadata": {
    "scrolled": true
   },
   "outputs": [
    {
     "data": {
      "text/html": [
       "<div>\n",
       "<style scoped>\n",
       "    .dataframe tbody tr th:only-of-type {\n",
       "        vertical-align: middle;\n",
       "    }\n",
       "\n",
       "    .dataframe tbody tr th {\n",
       "        vertical-align: top;\n",
       "    }\n",
       "\n",
       "    .dataframe thead th {\n",
       "        text-align: right;\n",
       "    }\n",
       "</style>\n",
       "<table border=\"1\" class=\"dataframe\">\n",
       "  <thead>\n",
       "    <tr style=\"text-align: right;\">\n",
       "      <th></th>\n",
       "      <th>user</th>\n",
       "      <th>rate</th>\n",
       "      <th>title</th>\n",
       "      <th>title_eng</th>\n",
       "      <th>year</th>\n",
       "      <th>grade</th>\n",
       "      <th>genre</th>\n",
       "      <th>country</th>\n",
       "      <th>people</th>\n",
       "      <th>order</th>\n",
       "      <th>leading</th>\n",
       "    </tr>\n",
       "    <tr>\n",
       "      <th>movie</th>\n",
       "      <th></th>\n",
       "      <th></th>\n",
       "      <th></th>\n",
       "      <th></th>\n",
       "      <th></th>\n",
       "      <th></th>\n",
       "      <th></th>\n",
       "      <th></th>\n",
       "      <th></th>\n",
       "      <th></th>\n",
       "      <th></th>\n",
       "    </tr>\n",
       "  </thead>\n",
       "  <tbody>\n",
       "    <tr>\n",
       "      <th>10001</th>\n",
       "      <td>2</td>\n",
       "      <td>7.0</td>\n",
       "      <td>시네마 천국</td>\n",
       "      <td>Cinema Paradiso , 1988</td>\n",
       "      <td>1990</td>\n",
       "      <td>전체 관람가</td>\n",
       "      <td>드라마/멜로/로맨스</td>\n",
       "      <td>이탈리아/프랑스</td>\n",
       "      <td>[4374, 178, 3241, 47952, 47953, 19538, 18991, ...</td>\n",
       "      <td>[1, 2, 3, 4, 5, 6, 7, 8, 9, 10, 11, 12, 13, 14...</td>\n",
       "      <td>[1, 1, 1, 1, 0, 0, 0, 0, 0, 0, 0, 0, 0, 0, 0, 0]</td>\n",
       "    </tr>\n",
       "    <tr>\n",
       "      <th>10001</th>\n",
       "      <td>3</td>\n",
       "      <td>10.0</td>\n",
       "      <td>시네마 천국</td>\n",
       "      <td>Cinema Paradiso , 1988</td>\n",
       "      <td>1990</td>\n",
       "      <td>전체 관람가</td>\n",
       "      <td>드라마/멜로/로맨스</td>\n",
       "      <td>이탈리아/프랑스</td>\n",
       "      <td>[4374, 178, 3241, 47952, 47953, 19538, 18991, ...</td>\n",
       "      <td>[1, 2, 3, 4, 5, 6, 7, 8, 9, 10, 11, 12, 13, 14...</td>\n",
       "      <td>[1, 1, 1, 1, 0, 0, 0, 0, 0, 0, 0, 0, 0, 0, 0, 0]</td>\n",
       "    </tr>\n",
       "    <tr>\n",
       "      <th>10001</th>\n",
       "      <td>4</td>\n",
       "      <td>5.0</td>\n",
       "      <td>시네마 천국</td>\n",
       "      <td>Cinema Paradiso , 1988</td>\n",
       "      <td>1990</td>\n",
       "      <td>전체 관람가</td>\n",
       "      <td>드라마/멜로/로맨스</td>\n",
       "      <td>이탈리아/프랑스</td>\n",
       "      <td>[4374, 178, 3241, 47952, 47953, 19538, 18991, ...</td>\n",
       "      <td>[1, 2, 3, 4, 5, 6, 7, 8, 9, 10, 11, 12, 13, 14...</td>\n",
       "      <td>[1, 1, 1, 1, 0, 0, 0, 0, 0, 0, 0, 0, 0, 0, 0, 0]</td>\n",
       "    </tr>\n",
       "    <tr>\n",
       "      <th>10001</th>\n",
       "      <td>8</td>\n",
       "      <td>10.0</td>\n",
       "      <td>시네마 천국</td>\n",
       "      <td>Cinema Paradiso , 1988</td>\n",
       "      <td>1990</td>\n",
       "      <td>전체 관람가</td>\n",
       "      <td>드라마/멜로/로맨스</td>\n",
       "      <td>이탈리아/프랑스</td>\n",
       "      <td>[4374, 178, 3241, 47952, 47953, 19538, 18991, ...</td>\n",
       "      <td>[1, 2, 3, 4, 5, 6, 7, 8, 9, 10, 11, 12, 13, 14...</td>\n",
       "      <td>[1, 1, 1, 1, 0, 0, 0, 0, 0, 0, 0, 0, 0, 0, 0, 0]</td>\n",
       "    </tr>\n",
       "    <tr>\n",
       "      <th>10001</th>\n",
       "      <td>10</td>\n",
       "      <td>9.0</td>\n",
       "      <td>시네마 천국</td>\n",
       "      <td>Cinema Paradiso , 1988</td>\n",
       "      <td>1990</td>\n",
       "      <td>전체 관람가</td>\n",
       "      <td>드라마/멜로/로맨스</td>\n",
       "      <td>이탈리아/프랑스</td>\n",
       "      <td>[4374, 178, 3241, 47952, 47953, 19538, 18991, ...</td>\n",
       "      <td>[1, 2, 3, 4, 5, 6, 7, 8, 9, 10, 11, 12, 13, 14...</td>\n",
       "      <td>[1, 1, 1, 1, 0, 0, 0, 0, 0, 0, 0, 0, 0, 0, 0, 0]</td>\n",
       "    </tr>\n",
       "  </tbody>\n",
       "</table>\n",
       "</div>"
      ],
      "text/plain": [
       "       user  rate   title               title_eng  year   grade       genre  \\\n",
       "movie                                                                         \n",
       "10001     2   7.0  시네마 천국  Cinema Paradiso , 1988  1990  전체 관람가  드라마/멜로/로맨스   \n",
       "10001     3  10.0  시네마 천국  Cinema Paradiso , 1988  1990  전체 관람가  드라마/멜로/로맨스   \n",
       "10001     4   5.0  시네마 천국  Cinema Paradiso , 1988  1990  전체 관람가  드라마/멜로/로맨스   \n",
       "10001     8  10.0  시네마 천국  Cinema Paradiso , 1988  1990  전체 관람가  드라마/멜로/로맨스   \n",
       "10001    10   9.0  시네마 천국  Cinema Paradiso , 1988  1990  전체 관람가  드라마/멜로/로맨스   \n",
       "\n",
       "        country                                             people  \\\n",
       "movie                                                                \n",
       "10001  이탈리아/프랑스  [4374, 178, 3241, 47952, 47953, 19538, 18991, ...   \n",
       "10001  이탈리아/프랑스  [4374, 178, 3241, 47952, 47953, 19538, 18991, ...   \n",
       "10001  이탈리아/프랑스  [4374, 178, 3241, 47952, 47953, 19538, 18991, ...   \n",
       "10001  이탈리아/프랑스  [4374, 178, 3241, 47952, 47953, 19538, 18991, ...   \n",
       "10001  이탈리아/프랑스  [4374, 178, 3241, 47952, 47953, 19538, 18991, ...   \n",
       "\n",
       "                                                   order  \\\n",
       "movie                                                      \n",
       "10001  [1, 2, 3, 4, 5, 6, 7, 8, 9, 10, 11, 12, 13, 14...   \n",
       "10001  [1, 2, 3, 4, 5, 6, 7, 8, 9, 10, 11, 12, 13, 14...   \n",
       "10001  [1, 2, 3, 4, 5, 6, 7, 8, 9, 10, 11, 12, 13, 14...   \n",
       "10001  [1, 2, 3, 4, 5, 6, 7, 8, 9, 10, 11, 12, 13, 14...   \n",
       "10001  [1, 2, 3, 4, 5, 6, 7, 8, 9, 10, 11, 12, 13, 14...   \n",
       "\n",
       "                                                leading  \n",
       "movie                                                    \n",
       "10001  [1, 1, 1, 1, 0, 0, 0, 0, 0, 0, 0, 0, 0, 0, 0, 0]  \n",
       "10001  [1, 1, 1, 1, 0, 0, 0, 0, 0, 0, 0, 0, 0, 0, 0, 0]  \n",
       "10001  [1, 1, 1, 1, 0, 0, 0, 0, 0, 0, 0, 0, 0, 0, 0, 0]  \n",
       "10001  [1, 1, 1, 1, 0, 0, 0, 0, 0, 0, 0, 0, 0, 0, 0, 0]  \n",
       "10001  [1, 1, 1, 1, 0, 0, 0, 0, 0, 0, 0, 0, 0, 0, 0, 0]  "
      ]
     },
     "execution_count": 123,
     "metadata": {},
     "output_type": "execute_result"
    }
   ],
   "source": [
    "df.head()"
   ]
  },
  {
   "cell_type": "markdown",
   "id": "fd6bcf68",
   "metadata": {},
   "source": [
    "영화 제목이 없는 경우 제거해준다"
   ]
  },
  {
   "cell_type": "code",
   "execution_count": 124,
   "id": "570118ad",
   "metadata": {},
   "outputs": [
    {
     "data": {
      "text/plain": [
       "Int64Index([ 10327,  10475,  10672,  10707,  10793,  10990,  11024,  11671,\n",
       "             12149,  12196,\n",
       "            ...\n",
       "            145308, 145339, 147312, 147387, 149543, 149624, 149640, 160032,\n",
       "            160969, 191237],\n",
       "           dtype='int64', name='movie', length=722)"
      ]
     },
     "execution_count": 124,
     "metadata": {},
     "output_type": "execute_result"
    }
   ],
   "source": [
    "# 한국제목과 영어제목이 모두 없는 영화의 id를 확인해본다\n",
    "noname_movie = df[df.title.isnull() & df.title_eng.isnull()].index.unique()\n",
    "noname_movie"
   ]
  },
  {
   "cell_type": "markdown",
   "id": "99c2bb61",
   "metadata": {},
   "source": [
    "아래의 코드 결과 아무런 영화 id가 반환되지 않았다.<br>\n",
    "즉 영화제목이 존재하는데 특정 열에서만 작성이 된 경우가 없다는 뜻이다.<br>\n",
    "따라서 한글제목과 영어제목 모두 없는 경우 삭제해주었다."
   ]
  },
  {
   "cell_type": "code",
   "execution_count": 166,
   "id": "a535cbb3",
   "metadata": {},
   "outputs": [
    {
     "name": "stderr",
     "output_type": "stream",
     "text": [
      "C:\\Users\\yr\\AppData\\Local\\Temp/ipykernel_11248/3644255775.py:1: DeprecationWarning: The default dtype for empty Series will be 'object' instead of 'float64' in a future version. Specify a dtype explicitly to silence this warning.\n",
      "  tmp_series = pd.Series()\n"
     ]
    }
   ],
   "source": [
    "tmp_series = pd.Series()\n",
    "for movie in noname_movie:\n",
    "    #해당 영화 후기가 하나뿐이면 float형으로 불러와서 isnull()에서 오류가 발생하므로 예외처리한다\n",
    "    if type(df.loc[movie]) == type(tmp_series):\n",
    "        if df.loc[movie][['title','title_eng']].isnull().sum():\n",
    "            df.drop(movie, axis=0)\n",
    "    elif df.loc[movie].title.notnull().sum() + df.loc[movie].title_eng.notnull().sum() != 0:\n",
    "        print(movie)"
   ]
  },
  {
   "cell_type": "code",
   "execution_count": 127,
   "id": "5f3fecaf",
   "metadata": {},
   "outputs": [
    {
     "data": {
      "text/plain": [
       "user              0\n",
       "rate              0\n",
       "title         25855\n",
       "title_eng     27122\n",
       "year             36\n",
       "grade        146700\n",
       "genre         73037\n",
       "country       28718\n",
       "people        48108\n",
       "order         48108\n",
       "leading       48108\n",
       "dtype: int64"
      ]
     },
     "execution_count": 127,
     "metadata": {},
     "output_type": "execute_result"
    }
   ],
   "source": [
    "df = df.dropna(how='all', subset=['title','title_eng'])\n",
    "df.isnull().sum()"
   ]
  },
  {
   "cell_type": "code",
   "execution_count": 85,
   "id": "11d18548",
   "metadata": {},
   "outputs": [
    {
     "data": {
      "text/html": [
       "<div>\n",
       "<style scoped>\n",
       "    .dataframe tbody tr th:only-of-type {\n",
       "        vertical-align: middle;\n",
       "    }\n",
       "\n",
       "    .dataframe tbody tr th {\n",
       "        vertical-align: top;\n",
       "    }\n",
       "\n",
       "    .dataframe thead th {\n",
       "        text-align: right;\n",
       "    }\n",
       "</style>\n",
       "<table border=\"1\" class=\"dataframe\">\n",
       "  <thead>\n",
       "    <tr style=\"text-align: right;\">\n",
       "      <th></th>\n",
       "      <th>user</th>\n",
       "      <th>title</th>\n",
       "      <th>title_eng</th>\n",
       "      <th>genre</th>\n",
       "      <th>rate</th>\n",
       "    </tr>\n",
       "    <tr>\n",
       "      <th>movie</th>\n",
       "      <th></th>\n",
       "      <th></th>\n",
       "      <th></th>\n",
       "      <th></th>\n",
       "      <th></th>\n",
       "    </tr>\n",
       "  </thead>\n",
       "  <tbody>\n",
       "    <tr>\n",
       "      <th>83098</th>\n",
       "      <td>40445</td>\n",
       "      <td>페이스 메이커</td>\n",
       "      <td>pace maker , 2012</td>\n",
       "      <td>드라마</td>\n",
       "      <td>9.0</td>\n",
       "    </tr>\n",
       "    <tr>\n",
       "      <th>96961</th>\n",
       "      <td>16827</td>\n",
       "      <td>집으로 가는 길</td>\n",
       "      <td>Way Back Home , 2013</td>\n",
       "      <td>드라마</td>\n",
       "      <td>5.0</td>\n",
       "    </tr>\n",
       "    <tr>\n",
       "      <th>38281</th>\n",
       "      <td>6440</td>\n",
       "      <td>에이리언 VS. 프레데터</td>\n",
       "      <td>AVP: Alien Vs. Predator , 2004</td>\n",
       "      <td>액션/SF/모험/스릴러/공포/전쟁</td>\n",
       "      <td>5.0</td>\n",
       "    </tr>\n",
       "    <tr>\n",
       "      <th>41705</th>\n",
       "      <td>67642</td>\n",
       "      <td>한반도</td>\n",
       "      <td>Hanbando , 2006</td>\n",
       "      <td>드라마/액션/스릴러</td>\n",
       "      <td>4.0</td>\n",
       "    </tr>\n",
       "    <tr>\n",
       "      <th>38662</th>\n",
       "      <td>66454</td>\n",
       "      <td>내 머리 속의 지우개</td>\n",
       "      <td>A Moment To Remember , 2004</td>\n",
       "      <td>드라마/멜로/로맨스/코미디</td>\n",
       "      <td>8.0</td>\n",
       "    </tr>\n",
       "  </tbody>\n",
       "</table>\n",
       "</div>"
      ],
      "text/plain": [
       "        user          title                       title_eng  \\\n",
       "movie                                                         \n",
       "83098  40445        페이스 메이커               pace maker , 2012   \n",
       "96961  16827       집으로 가는 길            Way Back Home , 2013   \n",
       "38281   6440  에이리언 VS. 프레데터  AVP: Alien Vs. Predator , 2004   \n",
       "41705  67642            한반도                 Hanbando , 2006   \n",
       "38662  66454    내 머리 속의 지우개     A Moment To Remember , 2004   \n",
       "\n",
       "                    genre  rate  \n",
       "movie                            \n",
       "83098                 드라마   9.0  \n",
       "96961                 드라마   5.0  \n",
       "38281  액션/SF/모험/스릴러/공포/전쟁   5.0  \n",
       "41705          드라마/액션/스릴러   4.0  \n",
       "38662      드라마/멜로/로맨스/코미디   8.0  "
      ]
     },
     "execution_count": 85,
     "metadata": {},
     "output_type": "execute_result"
    }
   ],
   "source": [
    "# genre를 분류하기 위해 필요한 값만 불러와 dataframe을 만든다\n",
    "df_genre = df[[\"user\", \"title\", \"title_eng\", \"genre\", \"rate\"]]\n",
    "df_genre.sample(5)"
   ]
  },
  {
   "cell_type": "code",
   "execution_count": 168,
   "id": "31db6298",
   "metadata": {},
   "outputs": [
    {
     "name": "stdout",
     "output_type": "stream",
     "text": [
      "0.0 10.0\n"
     ]
    }
   ],
   "source": [
    "# rating scale을 정하기전 이상치가 있는지 확인하기 위해 min max 확인\n",
    "print(df.rate.min(), df.rate.max())"
   ]
  },
  {
   "cell_type": "code",
   "execution_count": 86,
   "id": "2e7a488a",
   "metadata": {},
   "outputs": [
    {
     "data": {
      "text/plain": [
       "{'test_rmse': array([3.09519041, 3.07889316, 3.09052431, 3.08348513, 3.08740873]),\n",
       " 'test_mae': array([2.57550583, 2.55903045, 2.57100863, 2.56679538, 2.56351959]),\n",
       " 'fit_time': (15.551383972167969,\n",
       "  15.518911838531494,\n",
       "  15.50003957748413,\n",
       "  15.454082489013672,\n",
       "  15.465306758880615),\n",
       " 'test_time': (0.48018980026245117,\n",
       "  0.47771191596984863,\n",
       "  0.4747335910797119,\n",
       "  0.8034811019897461,\n",
       "  0.4727342128753662)}"
      ]
     },
     "execution_count": 86,
     "metadata": {},
     "output_type": "execute_result"
    }
   ],
   "source": [
    "reader = Reader(rating_scale=(0, 10))\n",
    "\n",
    "data = Dataset.load_from_df(df_genre[[\"user\", \"genre\", \"rate\"]], reader)\n",
    "\n",
    "svd = SVD()\n",
    "cross_validate(svd, data, measures=['RMSE', 'MAE'])"
   ]
  },
  {
   "cell_type": "code",
   "execution_count": 174,
   "id": "e35f3765",
   "metadata": {},
   "outputs": [
    {
     "data": {
      "text/plain": [
       "Prediction(uid=9802, iid='코미디', r_ui=None, est=4.1486765416365445, details={'was_impossible': False})"
      ]
     },
     "execution_count": 174,
     "metadata": {},
     "output_type": "execute_result"
    }
   ],
   "source": [
    "user_id = 9802\n",
    "svd.predict(user_id, \"코미디\")"
   ]
  },
  {
   "cell_type": "code",
   "execution_count": 91,
   "id": "a28b4731",
   "metadata": {},
   "outputs": [
    {
     "data": {
      "text/html": [
       "<div>\n",
       "<style scoped>\n",
       "    .dataframe tbody tr th:only-of-type {\n",
       "        vertical-align: middle;\n",
       "    }\n",
       "\n",
       "    .dataframe tbody tr th {\n",
       "        vertical-align: top;\n",
       "    }\n",
       "\n",
       "    .dataframe thead th {\n",
       "        text-align: right;\n",
       "    }\n",
       "</style>\n",
       "<table border=\"1\" class=\"dataframe\">\n",
       "  <thead>\n",
       "    <tr style=\"text-align: right;\">\n",
       "      <th></th>\n",
       "      <th>user</th>\n",
       "      <th>title</th>\n",
       "      <th>title_eng</th>\n",
       "      <th>genre</th>\n",
       "      <th>rate</th>\n",
       "    </tr>\n",
       "    <tr>\n",
       "      <th>movie</th>\n",
       "      <th></th>\n",
       "      <th></th>\n",
       "      <th></th>\n",
       "      <th></th>\n",
       "      <th></th>\n",
       "    </tr>\n",
       "  </thead>\n",
       "  <tbody>\n",
       "    <tr>\n",
       "      <th>66728</th>\n",
       "      <td>9802</td>\n",
       "      <td>알리타: 배틀 엔젤</td>\n",
       "      <td>Alita: Battle Angel , 2018</td>\n",
       "      <td>멜로/로맨스/액션/SF/모험/스릴러</td>\n",
       "      <td>8.0</td>\n",
       "    </tr>\n",
       "    <tr>\n",
       "      <th>76020</th>\n",
       "      <td>9802</td>\n",
       "      <td>드래곤 길들이기 2</td>\n",
       "      <td>How To Train Your Dragon 2 , 2014</td>\n",
       "      <td>가족/코미디/모험/애니메이션/판타지/액션</td>\n",
       "      <td>10.0</td>\n",
       "    </tr>\n",
       "    <tr>\n",
       "      <th>82263</th>\n",
       "      <td>9802</td>\n",
       "      <td>스위치: 부춘산거도</td>\n",
       "      <td>天机·富春山居图 , Switch , 2013</td>\n",
       "      <td>드라마/모험/액션/스릴러</td>\n",
       "      <td>1.0</td>\n",
       "    </tr>\n",
       "    <tr>\n",
       "      <th>136873</th>\n",
       "      <td>9802</td>\n",
       "      <td>겨울왕국 2</td>\n",
       "      <td>Frozen 2 , 2019</td>\n",
       "      <td>뮤지컬/애니메이션/코미디/가족/모험/판타지</td>\n",
       "      <td>6.0</td>\n",
       "    </tr>\n",
       "    <tr>\n",
       "      <th>152694</th>\n",
       "      <td>9802</td>\n",
       "      <td>킬링 디어</td>\n",
       "      <td>The Killing of a Sacred Deer , 2017</td>\n",
       "      <td>스릴러</td>\n",
       "      <td>7.0</td>\n",
       "    </tr>\n",
       "    <tr>\n",
       "      <th>164200</th>\n",
       "      <td>9802</td>\n",
       "      <td>헬보이</td>\n",
       "      <td>Hellboy , 2019</td>\n",
       "      <td>판타지/모험/SF/액션</td>\n",
       "      <td>5.0</td>\n",
       "    </tr>\n",
       "    <tr>\n",
       "      <th>190377</th>\n",
       "      <td>9802</td>\n",
       "      <td>카운트다운</td>\n",
       "      <td>Countdown , 2019</td>\n",
       "      <td>스릴러/공포</td>\n",
       "      <td>3.0</td>\n",
       "    </tr>\n",
       "  </tbody>\n",
       "</table>\n",
       "</div>"
      ],
      "text/plain": [
       "        user       title                            title_eng  \\\n",
       "movie                                                           \n",
       "66728   9802  알리타: 배틀 엔젤           Alita: Battle Angel , 2018   \n",
       "76020   9802  드래곤 길들이기 2    How To Train Your Dragon 2 , 2014   \n",
       "82263   9802  스위치: 부춘산거도             天机·富春山居图 , Switch , 2013   \n",
       "136873  9802      겨울왕국 2                      Frozen 2 , 2019   \n",
       "152694  9802       킬링 디어  The Killing of a Sacred Deer , 2017   \n",
       "164200  9802         헬보이                       Hellboy , 2019   \n",
       "190377  9802       카운트다운                     Countdown , 2019   \n",
       "\n",
       "                          genre  rate  \n",
       "movie                                  \n",
       "66728       멜로/로맨스/액션/SF/모험/스릴러   8.0  \n",
       "76020    가족/코미디/모험/애니메이션/판타지/액션  10.0  \n",
       "82263             드라마/모험/액션/스릴러   1.0  \n",
       "136873  뮤지컬/애니메이션/코미디/가족/모험/판타지   6.0  \n",
       "152694                      스릴러   7.0  \n",
       "164200             판타지/모험/SF/액션   5.0  \n",
       "190377                   스릴러/공포   3.0  "
      ]
     },
     "execution_count": 91,
     "metadata": {},
     "output_type": "execute_result"
    }
   ],
   "source": [
    "df_genre[df_genre.user==user_id]"
   ]
  },
  {
   "cell_type": "code",
   "execution_count": 108,
   "id": "33717142",
   "metadata": {},
   "outputs": [
    {
     "data": {
      "text/plain": [
       "1636"
      ]
     },
     "execution_count": 108,
     "metadata": {},
     "output_type": "execute_result"
    }
   ],
   "source": [
    "len(df.genre.unique())"
   ]
  },
  {
   "cell_type": "code",
   "execution_count": 171,
   "id": "c2782a5a",
   "metadata": {},
   "outputs": [
    {
     "name": "stdout",
     "output_type": "stream",
     "text": [
      "['드라마' '멜로/로맨스' 'SF' '코미디' '서부' '판타지' '모험' '액션' '가족' '스릴러' '범죄' '공포' '전쟁'\n",
      " '미스터리' '뮤지컬' '느와르' '애니메이션' '서사' '에로' '다큐멘터리' '무협' '서스펜스' '컬트' '실험'\n",
      " '블랙코미디' '공연실황']\n"
     ]
    }
   ],
   "source": [
    "print(genre_index)"
   ]
  },
  {
   "cell_type": "code",
   "execution_count": 173,
   "id": "5122b851",
   "metadata": {},
   "outputs": [
    {
     "data": {
      "text/plain": [
       "genre    12\n",
       "dtype: int64"
      ]
     },
     "execution_count": 173,
     "metadata": {},
     "output_type": "execute_result"
    }
   ],
   "source": [
    "genres.groupby(\"movie\").count().max()"
   ]
  },
  {
   "cell_type": "markdown",
   "id": "3e137dcb",
   "metadata": {},
   "source": [
    "## 모델2\n",
    "### 기존의 장르대로 분류"
   ]
  },
  {
   "cell_type": "code",
   "execution_count": 189,
   "id": "536e03bd",
   "metadata": {},
   "outputs": [
    {
     "data": {
      "text/plain": [
       "Int64Index([ 66728,  76020,  82263,  99752, 101966, 103222, 109906, 119428,\n",
       "            121051, 123568, 130966, 136873, 136900, 136990, 140649, 144330,\n",
       "            149236, 152632, 152661, 152694, 153580, 153675, 153687, 154222,\n",
       "            154285, 155263, 155356, 156464, 158178, 158885, 159877, 159892,\n",
       "            160375, 160487, 161967, 161984, 163608, 163826, 164106, 164115,\n",
       "            164125, 164151, 164192, 164200, 166092, 167099, 167100, 167605,\n",
       "            167638, 167651, 167697, 167699, 168030, 168669, 169015, 169078,\n",
       "            169637, 170879, 171725, 171755, 172425, 173123, 173668, 173692,\n",
       "            174065, 174903, 175322, 175324, 175404, 177967, 178526, 179125,\n",
       "            179158, 179159, 179482, 179875, 180209, 180381, 181381, 181411,\n",
       "            181414, 181710, 182205, 182355, 187940, 188473, 189000, 189053,\n",
       "            190377],\n",
       "           dtype='int64', name='movie')"
      ]
     },
     "execution_count": 189,
     "metadata": {},
     "output_type": "execute_result"
    }
   ],
   "source": [
    "df[df.user == user_id][[\"rate\"]].index"
   ]
  },
  {
   "cell_type": "code",
   "execution_count": 334,
   "id": "39d7a616",
   "metadata": {},
   "outputs": [],
   "source": [
    "# 기존 26개의 장르를 genre_list에 담고 각 장르를 key로 하는 딕셔너리를 만든다\n",
    "# 사용자 id를 입력하면 해당 사용자가 후기를 작성한 영화에 접근 후\n",
    "# 각 영화에 해당하는 모든 장르에 사용자가 매긴 평점을 list 형태로 추가한다.\n",
    "# 모두 추가한 후 list 안의 값을 평균내고 null값을 제거한 dataframe을 반환한다.\n",
    "genre_list = genres.index\n",
    "\n",
    "def prefer_genre_rate(uid):\n",
    "    gen_dic = {x: [] for x in genre_index}\n",
    "    for key, value in dict(df[df.user == uid][\"rate\"]).items():\n",
    "        if key in genre_list:\n",
    "            for g in pd.Series(genres.loc[key].genre):\n",
    "                gen_dic[g].append(value)\n",
    "    for key in gen_dic.keys():\n",
    "        gen_dic[key] = np.mean(gen_dic[key])\n",
    "    gen_dic = pd.DataFrame.from_dict(gen_dic, orient='index')\n",
    "    gen_dic = gen_dic.reset_index()\n",
    "    gen_dic.rename(columns={'index' : 'genre', 0 : 'rate'},inplace=True)\n",
    "    gen_dic[\"user\"] = uid\n",
    "    return gen_dic.dropna()"
   ]
  },
  {
   "cell_type": "code",
   "execution_count": 333,
   "id": "ddf4d1a8",
   "metadata": {},
   "outputs": [
    {
     "name": "stderr",
     "output_type": "stream",
     "text": [
      "C:\\Users\\yr\\anaconda3\\lib\\site-packages\\numpy\\core\\fromnumeric.py:3419: RuntimeWarning: Mean of empty slice.\n",
      "  return _methods._mean(a, axis=axis, dtype=dtype,\n",
      "C:\\Users\\yr\\anaconda3\\lib\\site-packages\\numpy\\core\\_methods.py:188: RuntimeWarning: invalid value encountered in double_scalars\n",
      "  ret = ret.dtype.type(ret / rcount)\n"
     ]
    },
    {
     "data": {
      "text/html": [
       "<div>\n",
       "<style scoped>\n",
       "    .dataframe tbody tr th:only-of-type {\n",
       "        vertical-align: middle;\n",
       "    }\n",
       "\n",
       "    .dataframe tbody tr th {\n",
       "        vertical-align: top;\n",
       "    }\n",
       "\n",
       "    .dataframe thead th {\n",
       "        text-align: right;\n",
       "    }\n",
       "</style>\n",
       "<table border=\"1\" class=\"dataframe\">\n",
       "  <thead>\n",
       "    <tr style=\"text-align: right;\">\n",
       "      <th></th>\n",
       "      <th>genre</th>\n",
       "      <th>rate</th>\n",
       "      <th>user</th>\n",
       "    </tr>\n",
       "  </thead>\n",
       "  <tbody>\n",
       "    <tr>\n",
       "      <th>0</th>\n",
       "      <td>드라마</td>\n",
       "      <td>4.448276</td>\n",
       "      <td>9802</td>\n",
       "    </tr>\n",
       "    <tr>\n",
       "      <th>1</th>\n",
       "      <td>멜로/로맨스</td>\n",
       "      <td>4.666667</td>\n",
       "      <td>9802</td>\n",
       "    </tr>\n",
       "    <tr>\n",
       "      <th>2</th>\n",
       "      <td>SF</td>\n",
       "      <td>4.625000</td>\n",
       "      <td>9802</td>\n",
       "    </tr>\n",
       "    <tr>\n",
       "      <th>3</th>\n",
       "      <td>코미디</td>\n",
       "      <td>3.250000</td>\n",
       "      <td>9802</td>\n",
       "    </tr>\n",
       "    <tr>\n",
       "      <th>5</th>\n",
       "      <td>판타지</td>\n",
       "      <td>5.571429</td>\n",
       "      <td>9802</td>\n",
       "    </tr>\n",
       "    <tr>\n",
       "      <th>6</th>\n",
       "      <td>모험</td>\n",
       "      <td>5.437500</td>\n",
       "      <td>9802</td>\n",
       "    </tr>\n",
       "    <tr>\n",
       "      <th>7</th>\n",
       "      <td>액션</td>\n",
       "      <td>4.216216</td>\n",
       "      <td>9802</td>\n",
       "    </tr>\n",
       "    <tr>\n",
       "      <th>8</th>\n",
       "      <td>가족</td>\n",
       "      <td>5.666667</td>\n",
       "      <td>9802</td>\n",
       "    </tr>\n",
       "    <tr>\n",
       "      <th>9</th>\n",
       "      <td>스릴러</td>\n",
       "      <td>6.100000</td>\n",
       "      <td>9802</td>\n",
       "    </tr>\n",
       "    <tr>\n",
       "      <th>10</th>\n",
       "      <td>범죄</td>\n",
       "      <td>5.500000</td>\n",
       "      <td>9802</td>\n",
       "    </tr>\n",
       "    <tr>\n",
       "      <th>11</th>\n",
       "      <td>공포</td>\n",
       "      <td>5.400000</td>\n",
       "      <td>9802</td>\n",
       "    </tr>\n",
       "    <tr>\n",
       "      <th>13</th>\n",
       "      <td>미스터리</td>\n",
       "      <td>4.285714</td>\n",
       "      <td>9802</td>\n",
       "    </tr>\n",
       "    <tr>\n",
       "      <th>14</th>\n",
       "      <td>뮤지컬</td>\n",
       "      <td>8.000000</td>\n",
       "      <td>9802</td>\n",
       "    </tr>\n",
       "    <tr>\n",
       "      <th>16</th>\n",
       "      <td>애니메이션</td>\n",
       "      <td>6.000000</td>\n",
       "      <td>9802</td>\n",
       "    </tr>\n",
       "    <tr>\n",
       "      <th>19</th>\n",
       "      <td>다큐멘터리</td>\n",
       "      <td>1.000000</td>\n",
       "      <td>9802</td>\n",
       "    </tr>\n",
       "  </tbody>\n",
       "</table>\n",
       "</div>"
      ],
      "text/plain": [
       "     genre      rate  user\n",
       "0      드라마  4.448276  9802\n",
       "1   멜로/로맨스  4.666667  9802\n",
       "2       SF  4.625000  9802\n",
       "3      코미디  3.250000  9802\n",
       "5      판타지  5.571429  9802\n",
       "6       모험  5.437500  9802\n",
       "7       액션  4.216216  9802\n",
       "8       가족  5.666667  9802\n",
       "9      스릴러  6.100000  9802\n",
       "10      범죄  5.500000  9802\n",
       "11      공포  5.400000  9802\n",
       "13    미스터리  4.285714  9802\n",
       "14     뮤지컬  8.000000  9802\n",
       "16   애니메이션  6.000000  9802\n",
       "19   다큐멘터리  1.000000  9802"
      ]
     },
     "execution_count": 333,
     "metadata": {},
     "output_type": "execute_result"
    }
   ],
   "source": [
    "# user_id = 9802\n",
    "prefer_genre_rate(user_id)"
   ]
  },
  {
   "cell_type": "code",
   "execution_count": 347,
   "id": "41e9c64e",
   "metadata": {},
   "outputs": [],
   "source": [
    "# 모든 유저의 장르 선호를 하나의 dataframe으로 concat\n",
    "result = pd.DataFrame()\n",
    "for uid in df.user.unique():\n",
    "    result = pd.concat([result, prefer_genre_rate(uid)])"
   ]
  },
  {
   "cell_type": "code",
   "execution_count": 348,
   "id": "ce65ab11",
   "metadata": {},
   "outputs": [
    {
     "data": {
      "text/plain": [
       "(1180159, 3)"
      ]
     },
     "execution_count": 348,
     "metadata": {},
     "output_type": "execute_result"
    }
   ],
   "source": [
    "result.shape"
   ]
  },
  {
   "cell_type": "code",
   "execution_count": 350,
   "id": "233683bb",
   "metadata": {},
   "outputs": [
    {
     "data": {
      "text/plain": [
       "{'test_rmse': array([1.70959153, 1.71924042, 1.71869988, 1.72237829, 1.70882937]),\n",
       " 'test_mae': array([1.16260309, 1.17338435, 1.17277472, 1.17627586, 1.16829288]),\n",
       " 'fit_time': (31.446737051010132,\n",
       "  30.729886293411255,\n",
       "  30.977611303329468,\n",
       "  31.611769914627075,\n",
       "  31.055100679397583),\n",
       " 'test_time': (0.981346607208252,\n",
       "  0.9275243282318115,\n",
       "  0.9278485774993896,\n",
       "  0.9487001895904541,\n",
       "  1.4182155132293701)}"
      ]
     },
     "execution_count": 350,
     "metadata": {},
     "output_type": "execute_result"
    }
   ],
   "source": [
    "data = Dataset.load_from_df(result[[\"user\", \"genre\", \"rate\"]], reader)\n",
    "\n",
    "svd = SVD()\n",
    "cross_validate(svd, data, measures=['RMSE', 'MAE'])"
   ]
  },
  {
   "cell_type": "code",
   "execution_count": 359,
   "id": "cbb65628",
   "metadata": {},
   "outputs": [
    {
     "data": {
      "text/plain": [
       "Prediction(uid=9802, iid='다큐멘터리', r_ui=None, est=1.0474924869788236, details={'was_impossible': False})"
      ]
     },
     "execution_count": 359,
     "metadata": {},
     "output_type": "execute_result"
    }
   ],
   "source": [
    "svd.predict(user_id, '다큐멘터리')"
   ]
  },
  {
   "cell_type": "code",
   "execution_count": 361,
   "id": "99e2f36f",
   "metadata": {},
   "outputs": [
    {
     "data": {
      "text/plain": [
       "Prediction(uid=9802, iid='블랙코미디', r_ui=None, est=3.2353214634644742, details={'was_impossible': False})"
      ]
     },
     "execution_count": 361,
     "metadata": {},
     "output_type": "execute_result"
    }
   ],
   "source": [
    "svd.predict(user_id, '블랙코미디')"
   ]
  },
  {
   "cell_type": "code",
   "execution_count": 365,
   "id": "84c29ca0",
   "metadata": {},
   "outputs": [],
   "source": [
    "# joblib를 이용하여 모델 저장\n",
    "model_name = \"model_genre\"\n",
    "\n",
    "import joblib\n",
    "\n",
    "model_path = f\"{model_name}.joblib.gzip\"\n",
    "joblib.dump(svd, model_path, compress = \"gzip\")\n",
    "\n",
    "model = joblib.load(model_path)"
   ]
  }
 ],
 "metadata": {
  "kernelspec": {
   "display_name": "Python 3 (ipykernel)",
   "language": "python",
   "name": "python3"
  },
  "language_info": {
   "codemirror_mode": {
    "name": "ipython",
    "version": 3
   },
   "file_extension": ".py",
   "mimetype": "text/x-python",
   "name": "python",
   "nbconvert_exporter": "python",
   "pygments_lexer": "ipython3",
   "version": "3.9.7"
  }
 },
 "nbformat": 4,
 "nbformat_minor": 5
}
